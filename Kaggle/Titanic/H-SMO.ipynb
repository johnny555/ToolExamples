{
 "cells": [
  {
   "cell_type": "markdown",
   "metadata": {},
   "source": [
    "# SMO implementation\n",
    "Attempting to implement the SMO (https://www.microsoft.com/en-us/research/wp-content/uploads/2016/02/tr-98-14.pdf). \n"
   ]
  },
  {
   "cell_type": "markdown",
   "metadata": {},
   "source": [
    "First step, we wil need to be able to evaluate the SVM on\n",
    "a single instance. "
   ]
  },
  {
   "cell_type": "markdown",
   "metadata": {},
   "source": [
    "I initially explored hmatrix, but then I realised that I don't need matrix inversion for this algorithm, so using Repa would be better\n",
    "`--import Numeric.LinearAlgebra`\n"
   ]
  },
  {
   "cell_type": "code",
   "execution_count": 2,
   "metadata": {
    "collapsed": false
   },
   "outputs": [],
   "source": [
    "{- LANGUAGE XTypeOperators -}\n",
    "import  Data.Array.Repa\n"
   ]
  },
  {
   "cell_type": "code",
   "execution_count": 3,
   "metadata": {
    "collapsed": false
   },
   "outputs": [],
   "source": [
    "type BaseVector = Array U DIM1 Double\n",
    "type BaseScalar = Array U Z Double\n",
    "\n",
    "type Sample = BaseVector\n",
    "type Weights = BaseVector\n",
    "type Threshold = BaseScalar\n",
    "type Kernel = BaseVector -> BaseVector -> BaseScalar\n",
    "\n",
    "data ClassLabel = Class1 | Class2 deriving (Show, Eq)\n",
    "\n",
    "\n",
    "chooseClass :: Double -> ClassLabel\n",
    "chooseClass res = if res >= 0 then Class1 else Class2\n",
    "             \n",
    "dot :: Kernel\n",
    "dot a b = foldS (+) 0 ( a *^ b)              \n",
    "\n",
    "svm :: Kernel -> Weights -> Threshold -> Sample -> ClassLabel\n",
    "svm k w b x = let\n",
    "                res = (w `k` x) -^ b\n",
    "              in \n",
    "                chooseClass  $ res ! Z\n",
    "                \n",
    "linearSvm :: Weights -> Threshold -> Sample -> ClassLabel\n",
    "linearSvm = svm dot"
   ]
  },
  {
   "cell_type": "code",
   "execution_count": 4,
   "metadata": {
    "collapsed": false
   },
   "outputs": [
    {
     "data": {
      "text/plain": [
       "Class1"
      ]
     },
     "metadata": {},
     "output_type": "display_data"
    }
   ],
   "source": [
    "x_inputs = [1..10] :: [Double]\n",
    "w_inputs = [11..20] :: [Double]\n",
    "x = fromListUnboxed (Z :. (10::Int))  x_inputs\n",
    "w = fromListUnboxed (Z :. (10::Int))  w_inputs\n",
    "\n",
    "thresh = fromListUnboxed Z ([2] :: [Double])\n",
    "\n",
    "svm dot w thresh x "
   ]
  },
  {
   "cell_type": "code",
   "execution_count": 5,
   "metadata": {
    "collapsed": false
   },
   "outputs": [
    {
     "data": {
      "text/plain": [
       "Class2"
      ]
     },
     "metadata": {},
     "output_type": "display_data"
    }
   ],
   "source": [
    "largethresh = fromListUnboxed Z ([1000] :: [Double])\n",
    "\n",
    "svm dot w largethresh x "
   ]
  },
  {
   "cell_type": "markdown",
   "metadata": {},
   "source": [
    "# Build Helper Functions \n",
    "Now that we can evaluate the SVM we need to work towards building the simple functions described in the paper. "
   ]
  },
  {
   "cell_type": "code",
   "execution_count": 7,
   "metadata": {
    "collapsed": true
   },
   "outputs": [],
   "source": [
    "-- equation 13\n",
    "lowerAlpha :: Double -> Bool -> Double -> Double  -> Double\n",
    "lowerAlpha c ueqY a1 a2 = let alphaDiff = (a1 - a2)\n",
    "                          in \n",
    "                            case ueqY of\n",
    "                                True -> max 0 (alphaDiff)\n",
    "                                False -> max 0 (alphaDiff - c )\n",
    "\n",
    "-- equation 14\n",
    "upperAlpha :: Double -> Bool -> Double -> Double -> Double\n",
    "upperAlpha c ueqY a1 a2 = let alphaDiff = (a1 - a2)\n",
    "                          in\n",
    "                            case ueqY of\n",
    "                                True -> min c (c + alphaDiff)\n",
    "                                False -> min c alphaDiff\n",
    "                                "
   ]
  },
  {
   "cell_type": "code",
   "execution_count": 9,
   "metadata": {
    "collapsed": false
   },
   "outputs": [
    {
     "data": {
      "text/html": [
       "<style>/* Styles used for the Hoogle display in the pager */\n",
       ".hoogle-doc {\n",
       "display: block;\n",
       "padding-bottom: 1.3em;\n",
       "padding-left: 0.4em;\n",
       "}\n",
       ".hoogle-code {\n",
       "display: block;\n",
       "font-family: monospace;\n",
       "white-space: pre;\n",
       "}\n",
       ".hoogle-text {\n",
       "display: block;\n",
       "}\n",
       ".hoogle-name {\n",
       "color: green;\n",
       "font-weight: bold;\n",
       "}\n",
       ".hoogle-head {\n",
       "font-weight: bold;\n",
       "}\n",
       ".hoogle-sub {\n",
       "display: block;\n",
       "margin-left: 0.4em;\n",
       "}\n",
       ".hoogle-package {\n",
       "font-weight: bold;\n",
       "font-style: italic;\n",
       "}\n",
       ".hoogle-module {\n",
       "font-weight: bold;\n",
       "}\n",
       ".hoogle-class {\n",
       "font-weight: bold;\n",
       "}\n",
       ".get-type {\n",
       "color: green;\n",
       "font-weight: bold;\n",
       "font-family: monospace;\n",
       "display: block;\n",
       "white-space: pre-wrap;\n",
       "}\n",
       ".show-type {\n",
       "color: green;\n",
       "font-weight: bold;\n",
       "font-family: monospace;\n",
       "margin-left: 1em;\n",
       "}\n",
       ".mono {\n",
       "font-family: monospace;\n",
       "display: block;\n",
       "}\n",
       ".err-msg {\n",
       "color: red;\n",
       "font-style: italic;\n",
       "font-family: monospace;\n",
       "white-space: pre;\n",
       "display: block;\n",
       "}\n",
       "#unshowable {\n",
       "color: red;\n",
       "font-weight: bold;\n",
       "}\n",
       ".err-msg.in.collapse {\n",
       "padding-top: 0.7em;\n",
       "}\n",
       ".highlight-code {\n",
       "white-space: pre;\n",
       "font-family: monospace;\n",
       "}\n",
       ".suggestion-warning { \n",
       "font-weight: bold;\n",
       "color: rgb(200, 130, 0);\n",
       "}\n",
       ".suggestion-error { \n",
       "font-weight: bold;\n",
       "color: red;\n",
       "}\n",
       ".suggestion-name {\n",
       "font-weight: bold;\n",
       "}\n",
       "</style><span class='err-msg'>Couldn't match type `D' with `U'<br/>Expected type: BaseScalar<br/>  Actual type: Array D Z Double<br/>In the expression: (x1 `k` x1) +^ (x2 `k` x2) -^ 2 *^ (x1 `k` x2)<br/>In an equation for `eta': eta k x1 x2 = (x1 `k` x1) +^ (x2 `k` x2) -^ 2 *^ (x1 `k` x2)</span>"
      ],
      "text/plain": [
       "Couldn't match type `D' with `U'\n",
       "Expected type: BaseScalar\n",
       "  Actual type: Array D Z Double\n",
       "In the expression: (x1 `k` x1) +^ (x2 `k` x2) -^ 2 *^ (x1 `k` x2)\n",
       "In an equation for `eta': eta k x1 x2 = (x1 `k` x1) +^ (x2 `k` x2) -^ 2 *^ (x1 `k` x2)"
      ]
     },
     "metadata": {},
     "output_type": "display_data"
    }
   ],
   "source": [
    "-- equation 15, 2nd Derivative\n",
    "eta :: Kernel -> Sample -> Sample -> BaseScalar\n",
    "eta k x1 x2 = (x1 `k` x1) +^ (x2 `k` x2) -^ 2 *^ (x1 `k` x2)\n",
    "\n",
    "\n",
    "classToInt :: ClassLabel -> Integer\n",
    "classToInt Class1 = 0\n",
    "classToInt class2 = 1\n",
    "\n",
    "classError :: ClassLabel -> ClassLabel -> Integer\n",
    "classError label1 label2 = if label1 == label2 then 0 else 1\n"
   ]
  },
  {
   "cell_type": "code",
   "execution_count": 6,
   "metadata": {
    "collapsed": false
   },
   "outputs": [
    {
     "data": {
      "text/html": [
       "<style>/* Styles used for the Hoogle display in the pager */\n",
       ".hoogle-doc {\n",
       "display: block;\n",
       "padding-bottom: 1.3em;\n",
       "padding-left: 0.4em;\n",
       "}\n",
       ".hoogle-code {\n",
       "display: block;\n",
       "font-family: monospace;\n",
       "white-space: pre;\n",
       "}\n",
       ".hoogle-text {\n",
       "display: block;\n",
       "}\n",
       ".hoogle-name {\n",
       "color: green;\n",
       "font-weight: bold;\n",
       "}\n",
       ".hoogle-head {\n",
       "font-weight: bold;\n",
       "}\n",
       ".hoogle-sub {\n",
       "display: block;\n",
       "margin-left: 0.4em;\n",
       "}\n",
       ".hoogle-package {\n",
       "font-weight: bold;\n",
       "font-style: italic;\n",
       "}\n",
       ".hoogle-module {\n",
       "font-weight: bold;\n",
       "}\n",
       ".hoogle-class {\n",
       "font-weight: bold;\n",
       "}\n",
       ".get-type {\n",
       "color: green;\n",
       "font-weight: bold;\n",
       "font-family: monospace;\n",
       "display: block;\n",
       "white-space: pre-wrap;\n",
       "}\n",
       ".show-type {\n",
       "color: green;\n",
       "font-weight: bold;\n",
       "font-family: monospace;\n",
       "margin-left: 1em;\n",
       "}\n",
       ".mono {\n",
       "font-family: monospace;\n",
       "display: block;\n",
       "}\n",
       ".err-msg {\n",
       "color: red;\n",
       "font-style: italic;\n",
       "font-family: monospace;\n",
       "white-space: pre;\n",
       "display: block;\n",
       "}\n",
       "#unshowable {\n",
       "color: red;\n",
       "font-weight: bold;\n",
       "}\n",
       ".err-msg.in.collapse {\n",
       "padding-top: 0.7em;\n",
       "}\n",
       ".highlight-code {\n",
       "white-space: pre;\n",
       "font-family: monospace;\n",
       "}\n",
       ".suggestion-warning { \n",
       "font-weight: bold;\n",
       "color: rgb(200, 130, 0);\n",
       "}\n",
       ".suggestion-error { \n",
       "font-weight: bold;\n",
       "color: red;\n",
       "}\n",
       ".suggestion-name {\n",
       "font-weight: bold;\n",
       "}\n",
       "</style><span class='err-msg'>Parse error (line 20, column 50): parse error on input `<span>&dollar;</span>'<br/>Perhaps you intended to use TemplateHaskell</span>"
      ],
      "text/plain": [
       "Parse error (line 20, column 50): parse error on input `$'\n",
       "Perhaps you intended to use TemplateHaskell"
      ]
     },
     "metadata": {},
     "output_type": "display_data"
    }
   ],
   "source": [
    "-- WARNING I THINK I MAY HAVE MISINTERPRETED THE MEANING OF Y!!!\n",
    "\n",
    "-- equation 16, minimum along contstraint direction\n",
    "alpha2New :: BaseScalar      -- Current Alpha Value\n",
    "             -> BaseScalar   -- Result of the graidient calculation\n",
    "             -> ClassLabel   -- TrueLabel of point1\n",
    "             -> ClassLabel   -- TrueLabel of point2\n",
    "             -> ClassLabel   -- Predicted Label of point1\n",
    "             -> ClassLabel   -- Predicted Label of point2 \n",
    "             -> BaseScalar   -- New alpha\n",
    "alpha2New a e y1 y2 s1 s2 = \n",
    "    let \n",
    "        y2' = classToInt y2\n",
    "        e1 = classError y1 s1\n",
    "        e2 = classError y2 s2\n",
    "    in\n",
    "        a + y2'* (e1-e2) / e -- Implementing eq 16\n",
    "        \n",
    "-- Equation 17, \n",
    "alphaNewClipped :: BaseScalar -- alpha2New \n",
    "                   -> Double  -- H\n",
    "                   -> Double  -- L\n",
    "                   -> BaseScalar\n",
    "alphaNewClipped a h l \n",
    "    | a >= h = h -- will fail typechecker might need to cast or something...\n",
    "    | a <= l = l\n",
    "    | otherwise = a\n",
    "\n",
    "-- Equation 18\n",
    "\n",
    "alpha1New :: Double   -- Alpha1\n",
    "             -> ClassLabel -- True Label class1\n",
    "             -> ClassLabel -- True Label class2\n",
    "             -> BaseScalar -- Alpha2\n",
    "             -> BaseScalar -- Alpha2Clipped\n",
    "alphaNew a y1 y2 a2 a2clip =\n",
    "    let \n",
    "        y1' = classToInt y1\n",
    "        y2' = classToInt y2\n",
    "        s = y1'*y2' :: Double \n",
    "    in \n",
    "        a + s * (a2 - a2clip)"
   ]
  },
  {
   "cell_type": "code",
   "execution_count": null,
   "metadata": {
    "collapsed": true
   },
   "outputs": [],
   "source": []
  }
 ],
 "metadata": {
  "kernelspec": {
   "display_name": "Haskell",
   "language": "haskell",
   "name": "haskell"
  },
  "language_info": {
   "codemirror_mode": "ihaskell",
   "file_extension": ".hs",
   "name": "haskell",
   "version": "7.10.3"
  }
 },
 "nbformat": 4,
 "nbformat_minor": 1
}
