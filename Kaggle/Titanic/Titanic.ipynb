{
 "cells": [
  {
   "cell_type": "code",
   "execution_count": 1,
   "metadata": {
    "collapsed": true
   },
   "outputs": [],
   "source": [
    "{-# LANGUAGE DataKinds, FlexibleContexts, QuasiQuotes, TemplateHaskell #-}"
   ]
  },
  {
   "cell_type": "code",
   "execution_count": 2,
   "metadata": {
    "collapsed": true
   },
   "outputs": [],
   "source": [
    "import Frames\n",
    "import Graphics.Rendering.Chart\n",
    "import Data.Foldable"
   ]
  },
  {
   "cell_type": "markdown",
   "metadata": {},
   "source": [
    "The goal is to add a new type to the \"universe of types\". In this case we want to allow Haskell to infer that a column is a Gender column by looking for the strings \"male\" and \"female\"\n",
    "Code grabbed from the https://github.com/acowley/Frames/blob/master/demo/TutorialUsers.hs"
   ]
  },
  {
   "cell_type": "code",
   "execution_count": 16,
   "metadata": {
    "collapsed": false
   },
   "outputs": [],
   "source": [
    "{-# LANGUAGE DataKinds, DeriveDataTypeable, TypeFamilies, TypeOperators, OverloadedStrings #-}\n",
    "module TitanicTypes where\n",
    "import Control.Monad (mzero)\n",
    "import qualified Data.Char as C\n",
    "import Data.Readable (Readable(fromText))\n",
    "import qualified Data.Text as T\n",
    "import Data.Typeable\n",
    "import qualified Data.Vector as V\n",
    "import Frames.InCore (VectorFor)\n",
    "import Frames\n",
    "\n",
    "data GenderT = Male | Female deriving (Enum,Eq,Ord,Show,Typeable)\n",
    "\n",
    "type instance VectorFor GenderT = V.Vector\n",
    "\n",
    "instance Readable GenderT where\n",
    "  fromText \"male\" = return Male\n",
    "  fromText \"female\" = return Female\n",
    "  fromText _ = mzero\n",
    "\n",
    "type MyColumns = GenderT ': CommonColumns"
   ]
  },
  {
   "cell_type": "markdown",
   "metadata": {},
   "source": [
    "Following along with the Frames tutorial, we apparently need to use the following Template haskell"
   ]
  },
  {
   "cell_type": "code",
   "execution_count": 20,
   "metadata": {
    "collapsed": false
   },
   "outputs": [
    {
     "data": {
      "text/html": [
       "<style>/* Styles used for the Hoogle display in the pager */\n",
       ".hoogle-doc {\n",
       "display: block;\n",
       "padding-bottom: 1.3em;\n",
       "padding-left: 0.4em;\n",
       "}\n",
       ".hoogle-code {\n",
       "display: block;\n",
       "font-family: monospace;\n",
       "white-space: pre;\n",
       "}\n",
       ".hoogle-text {\n",
       "display: block;\n",
       "}\n",
       ".hoogle-name {\n",
       "color: green;\n",
       "font-weight: bold;\n",
       "}\n",
       ".hoogle-head {\n",
       "font-weight: bold;\n",
       "}\n",
       ".hoogle-sub {\n",
       "display: block;\n",
       "margin-left: 0.4em;\n",
       "}\n",
       ".hoogle-package {\n",
       "font-weight: bold;\n",
       "font-style: italic;\n",
       "}\n",
       ".hoogle-module {\n",
       "font-weight: bold;\n",
       "}\n",
       ".hoogle-class {\n",
       "font-weight: bold;\n",
       "}\n",
       ".get-type {\n",
       "color: green;\n",
       "font-weight: bold;\n",
       "font-family: monospace;\n",
       "display: block;\n",
       "white-space: pre-wrap;\n",
       "}\n",
       ".show-type {\n",
       "color: green;\n",
       "font-weight: bold;\n",
       "font-family: monospace;\n",
       "margin-left: 1em;\n",
       "}\n",
       ".mono {\n",
       "font-family: monospace;\n",
       "display: block;\n",
       "}\n",
       ".err-msg {\n",
       "color: red;\n",
       "font-style: italic;\n",
       "font-family: monospace;\n",
       "white-space: pre;\n",
       "display: block;\n",
       "}\n",
       "#unshowable {\n",
       "color: red;\n",
       "font-weight: bold;\n",
       "}\n",
       ".err-msg.in.collapse {\n",
       "padding-top: 0.7em;\n",
       "}\n",
       ".highlight-code {\n",
       "white-space: pre;\n",
       "font-family: monospace;\n",
       "}\n",
       ".suggestion-warning { \n",
       "font-weight: bold;\n",
       "color: rgb(200, 130, 0);\n",
       "}\n",
       ".suggestion-error { \n",
       "font-weight: bold;\n",
       "color: red;\n",
       "}\n",
       ".suggestion-name {\n",
       "font-weight: bold;\n",
       "}\n",
       "</style><span class='err-msg'>No instance for (Frames.ColumnTypeable.Parseable GenderT) arising from a use of tableTypes'<br/>In the expression: tableTypes' (rowGen {rowTypeName = \"U2\", tablePrefix = \"u2\", columnUniverse = Proxy :: Proxy (ColumnUniverse MyColumns)}) \"data/train.csv\"<br/>In an equation for `it': it = tableTypes' (rowGen {rowTypeName = \"U2\", tablePrefix = \"u2\", columnUniverse = Proxy :: Proxy (ColumnUniverse MyColumns)}) \"data/train.csv\"</span>"
      ],
      "text/plain": [
       "No instance for (Frames.ColumnTypeable.Parseable GenderT) arising from a use of tableTypes'\n",
       "In the expression: tableTypes' (rowGen {rowTypeName = \"U2\", tablePrefix = \"u2\", columnUniverse = Proxy :: Proxy (ColumnUniverse MyColumns)}) \"data/train.csv\"\n",
       "In an equation for `it': it = tableTypes' (rowGen {rowTypeName = \"U2\", tablePrefix = \"u2\", columnUniverse = Proxy :: Proxy (ColumnUniverse MyColumns)}) \"data/train.csv\""
      ]
     },
     "metadata": {},
     "output_type": "display_data"
    }
   ],
   "source": [
    "import Control.Applicative\n",
    "import qualified Control.Foldl as L\n",
    "import qualified Data.Foldable as F\n",
    "import Data.Proxy (Proxy(..))\n",
    "import Frames\n",
    "import Frames.CSV (readTableOpt, rowGen, RowGen(..))\n",
    "import qualified Pipes.Prelude as P\n",
    "import Frames.CSV (colQ)\n",
    "import TitanicTypes\n",
    "\n",
    "\n",
    "tableTypes' rowGen { rowTypeName = \"U2\"\n",
    "                   , tablePrefix = \"u2\"\n",
    "                   , columnUniverse = $(colQ ''MyColumns) }\n",
    "            \"data/train.csv\""
   ]
  },
  {
   "cell_type": "markdown",
   "metadata": {},
   "source": [
    "We can use the function `tableTypes` from the `Frames` library to generate a type `Row` for our CSV file, after that we can make a loader function that will load a `Frame` from the file."
   ]
  },
  {
   "cell_type": "code",
   "execution_count": 3,
   "metadata": {
    "collapsed": true
   },
   "outputs": [],
   "source": [
    "tableTypes \"Row\" \"data/train.csv\"\n",
    "\n",
    "loadRows :: IO (Frame Row)\n",
    "loadRows = inCoreAoS $ readTable \"data/train.csv\""
   ]
  },
  {
   "cell_type": "markdown",
   "metadata": {},
   "source": [
    "We can inspect the **row** type:"
   ]
  },
  {
   "cell_type": "code",
   "execution_count": 4,
   "metadata": {
    "collapsed": false
   },
   "outputs": [
    {
     "data": {},
     "metadata": {},
     "output_type": "display_data"
    }
   ],
   "source": [
    ":i Row"
   ]
  },
  {
   "cell_type": "markdown",
   "metadata": {},
   "source": [
    "It gives us the following:\n",
    "```hs\n",
    "type Row =\n",
    "    Record\n",
    "        '[\"PassengerId\" :-> Int\n",
    "         , \"Survived\"   :-> Bool\n",
    "         , \"Pclass\"     :-> Int\n",
    "         , \"Name\"       :-> Text\n",
    "         , \"Sex\"        :-> Text\n",
    "         , \"Age\"        :-> Int\n",
    "         , \"SibSp\"      :-> Int\n",
    "         , \"Parch\"      :-> Int\n",
    "         , \"Embarked\"   :-> Int\n",
    "         ]\n",
    "```"
   ]
  },
  {
   "cell_type": "code",
   "execution_count": 5,
   "metadata": {
    "collapsed": false,
    "scrolled": true
   },
   "outputs": [],
   "source": [
    "rows <- loadRows"
   ]
  },
  {
   "cell_type": "code",
   "execution_count": 6,
   "metadata": {
    "collapsed": false
   },
   "outputs": [
    {
     "data": {
      "text/plain": [
       "{PassengerId :-> 4, Survived :-> True, Pclass :-> 1, Name :-> \"Futrelle, Mrs. Jacques Heath (Lily May Peel)\", Sex :-> \"female\", Age :-> 35, SibSp :-> 1, Parch :-> 0, Ticket :-> 113803, Fare :-> 53.1, Cabin :-> \"C123\", Embarked :-> \"S\"}"
      ]
     },
     "metadata": {},
     "output_type": "display_data"
    }
   ],
   "source": [
    "rec1 = head $ toList rows\n",
    "rec1"
   ]
  },
  {
   "cell_type": "markdown",
   "metadata": {},
   "source": [
    "We can see that this visualization style is not really comfortable, as it is just printing the `Text` representation of the record. We could try to render this as an HTML table:"
   ]
  },
  {
   "cell_type": "code",
   "execution_count": 7,
   "metadata": {
    "collapsed": false
   },
   "outputs": [
    {
     "data": {
      "text/plain": [
       "\"4\"\n",
       "\"True\"\n",
       "\"1\"\n",
       "\"\\\"Futrelle, Mrs. Jacques Heath (Lily May Peel)\\\"\"\n",
       "\"\\\"female\\\"\"\n",
       "\"35\"\n",
       "\"1\"\n",
       "\"0\"\n",
       "\"113803\"\n",
       "\"53.1\"\n",
       "\"\\\"C123\\\"\"\n",
       "\"\\\"S\\\"\""
      ]
     },
     "metadata": {},
     "output_type": "display_data"
    }
   ],
   "source": [
    "import Graphics.Rendering.Chart.Easy\n",
    "import IHaskell.Display\n",
    "import Data.Vinyl.Core\n",
    "import Data.Vinyl\n",
    "\n",
    "\n",
    "\n",
    "mapM_ print $ showFields rec1"
   ]
  }
 ],
 "metadata": {
  "kernelspec": {
   "display_name": "Haskell",
   "language": "haskell",
   "name": "haskell"
  },
  "language_info": {
   "codemirror_mode": "ihaskell",
   "file_extension": ".hs",
   "name": "haskell",
   "version": "7.10.3"
  }
 },
 "nbformat": 4,
 "nbformat_minor": 1
}
