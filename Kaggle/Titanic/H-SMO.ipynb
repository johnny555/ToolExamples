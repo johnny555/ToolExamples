{
 "cells": [
  {
   "cell_type": "markdown",
   "metadata": {},
   "source": [
    "# SMO implementation\n",
    "Attempting to implement the SMO (https://www.microsoft.com/en-us/research/wp-content/uploads/2016/02/tr-98-14.pdf). \n",
    "\n",
    "Also consider https://www.csie.ntu.edu.tw/~cjlin/papers/bottou_lin.pdf"
   ]
  },
  {
   "cell_type": "markdown",
   "metadata": {},
   "source": [
    "First step, we wil need to be able to evaluate the SVM on\n",
    "a single instance. "
   ]
  },
  {
   "cell_type": "markdown",
   "metadata": {},
   "source": [
    "I initially explored hmatrix, but then I realised that I don't need matrix inversion for this algorithm, so using Repa would be better\n",
    "`--import Numeric.LinearAlgebra`\n"
   ]
  },
  {
   "cell_type": "code",
   "execution_count": 1,
   "metadata": {
    "collapsed": false
   },
   "outputs": [],
   "source": [
    "{- LANGUAGE XTypeOperators -}\n",
    "import  Data.Array.Repa\n",
    "import qualified Data.Array.Repa as R\n"
   ]
  },
  {
   "cell_type": "code",
   "execution_count": 2,
   "metadata": {
    "collapsed": false
   },
   "outputs": [],
   "source": [
    "import Data.Array.Repa.Repr.Vector"
   ]
  },
  {
   "cell_type": "code",
   "execution_count": 3,
   "metadata": {
    "collapsed": false
   },
   "outputs": [],
   "source": [
    "import Data.Array.Repa.Repr.Vector                   as RV"
   ]
  },
  {
   "cell_type": "code",
   "execution_count": 4,
   "metadata": {
    "collapsed": false
   },
   "outputs": [
    {
     "data": {},
     "metadata": {},
     "output_type": "display_data"
    }
   ],
   "source": [
    ":i RV.fromListVector"
   ]
  },
  {
   "cell_type": "code",
   "execution_count": 5,
   "metadata": {
    "collapsed": false
   },
   "outputs": [],
   "source": [
    "type BaseVector = Array U DIM1 Double\n",
    "type BaseScalar = Array U Z Double\n",
    "\n",
    "type Sample = BaseVector\n",
    "type Weights = BaseVector\n",
    "type Threshold = BaseScalar\n",
    "\n",
    "-- There is probably an opportunity to build a type-class around the \n",
    "-- rules for composing kernel functions. \n",
    "type Kernel = BaseVector -> BaseVector -> BaseScalar\n",
    "\n",
    "data ClassLabel = Class1 | Class2 deriving (Show, Eq)\n",
    "\n",
    "\n",
    "chooseClass :: Double -> ClassLabel\n",
    "chooseClass res = if res >= 0 then Class1 else Class2\n",
    "             \n",
    "dot :: Kernel\n",
    "dot a b =  foldS (+) 0 ( a *^ b) \n",
    "\n",
    "svm :: Kernel -> Weights -> Threshold -> Sample -> ClassLabel\n",
    "svm k w b x = let\n",
    "                res = (w `k` x) -^ b\n",
    "              in \n",
    "                chooseClass  $ res ! Z\n",
    "                \n",
    "linearSvm :: Weights -> Threshold -> Sample -> ClassLabel\n",
    "linearSvm = svm dot"
   ]
  },
  {
   "cell_type": "code",
   "execution_count": null,
   "metadata": {
    "collapsed": false
   },
   "outputs": [],
   "source": []
  },
  {
   "cell_type": "code",
   "execution_count": 6,
   "metadata": {
    "collapsed": false
   },
   "outputs": [
    {
     "data": {
      "text/plain": [
       "Class1"
      ]
     },
     "metadata": {},
     "output_type": "display_data"
    }
   ],
   "source": [
    "x_inputs = [1..10] :: [Double]\n",
    "w_inputs = [11..20] :: [Double]\n",
    "x = fromListUnboxed (Z :. (10::Int))  x_inputs\n",
    "w = fromListUnboxed (Z :. (10::Int))  w_inputs\n",
    "\n",
    "thresh = fromListUnboxed Z ([2] :: [Double])\n",
    "\n",
    "svm dot w thresh x "
   ]
  },
  {
   "cell_type": "code",
   "execution_count": 7,
   "metadata": {
    "collapsed": false
   },
   "outputs": [
    {
     "data": {
      "text/plain": [
       "Class2"
      ]
     },
     "metadata": {},
     "output_type": "display_data"
    }
   ],
   "source": [
    "largethresh = fromListUnboxed Z ([1000] :: [Double])\n",
    "\n",
    "svm dot w largethresh x "
   ]
  },
  {
   "cell_type": "markdown",
   "metadata": {},
   "source": [
    "# Build Helper Functions \n",
    "Now that we can evaluate the SVM we need to work towards building the simple functions described in the paper. "
   ]
  },
  {
   "cell_type": "code",
   "execution_count": 8,
   "metadata": {
    "collapsed": false
   },
   "outputs": [],
   "source": [
    "-- equation 13\n",
    "lowerAlpha :: (Num val, Ord val) => val -> Bool -> val -> val -> val\n",
    "lowerAlpha c True a1 a2 = max 0 (a1 - a2)\n",
    "lowerAlpha c False a1 a2 = max 0 (a1 - a2 - c)\n",
    "\n",
    "-- equation 14\n",
    "upperAlpha :: (Num val, Ord val) => val -> Bool -> val -> val -> val\n",
    "upperAlpha c True a1 a2 = min c (c + a1 - a2)\n",
    "upperAlpha c False a1 a2 = min c (a1 - a2)\n",
    "                                "
   ]
  },
  {
   "cell_type": "code",
   "execution_count": null,
   "metadata": {
    "collapsed": true
   },
   "outputs": [],
   "source": []
  },
  {
   "cell_type": "code",
   "execution_count": 9,
   "metadata": {
    "collapsed": false
   },
   "outputs": [],
   "source": [
    "-- Make a scalar multiplication operator\n",
    "(.*) :: Double -> BaseScalar -> BaseScalar\n",
    "(.*) val vec = R.computeUnboxedS $ R.map (\\x -> val*x) vec\n",
    "\n",
    "-- Make Vector into a scalar\n",
    "squish :: BaseVector -> BaseScalar\n",
    "squish v = computeS $ backpermute (Z) (undefined) v \n",
    "\n",
    "unsquish :: BaseScalar -> BaseVector\n",
    "unsquish v = computeS $ backpermute (undefined) (undefined) v\n",
    "\n",
    "-- equation 15, 2nd Derivative\n",
    "eta :: Kernel -> Sample -> Sample -> BaseScalar\n",
    "eta k x1 x2 =  R.computeUnboxedS $ (x1 `k` x1) +^ (x2 `k` x2) -^ (2 .* (x1 `k` x2) )"
   ]
  },
  {
   "cell_type": "code",
   "execution_count": 10,
   "metadata": {
    "collapsed": false
   },
   "outputs": [
    {
     "data": {
      "text/plain": [
       "AUnboxed Z [1000.0]"
      ]
     },
     "metadata": {},
     "output_type": "display_data"
    }
   ],
   "source": [
    "eta dot x w"
   ]
  },
  {
   "cell_type": "code",
   "execution_count": 11,
   "metadata": {
    "collapsed": true
   },
   "outputs": [],
   "source": [
    "wrapScalar :: Double -> BaseScalar\n",
    "wrapScalar s = fromListUnboxed Z ([s] :: [Double])\n",
    "\n",
    "\n",
    "classToDbl ::  ClassLabel -> Double\n",
    "classToDbl Class1 = 1\n",
    "classToDbl Class2 = -1\n",
    "\n",
    "classToScalar :: ClassLabel -> BaseScalar\n",
    "classToScalar a = wrapScalar $ classToDbl a\n"
   ]
  },
  {
   "cell_type": "code",
   "execution_count": 12,
   "metadata": {
    "collapsed": false
   },
   "outputs": [],
   "source": [
    "classError :: Num a => ClassLabel -> ClassLabel -> Double\n",
    "classError label1 label2 = (classToDbl label1) - ( classToDbl label2)"
   ]
  },
  {
   "cell_type": "code",
   "execution_count": 13,
   "metadata": {
    "collapsed": false
   },
   "outputs": [],
   "source": [
    "-- equation 16, minimum along contstraint direction\n",
    "alpha2New :: Double      -- Current Alpha Value\n",
    "             -> Double   -- Result of the graidient calculation\n",
    "             -> ClassLabel   -- TrueLabel of point1\n",
    "             -> ClassLabel   -- TrueLabel of point2\n",
    "             -> ClassLabel   -- Predicted Label of point1\n",
    "             -> ClassLabel   -- Predicted Label of point2 \n",
    "             -> Double   -- New alpha\n",
    "alpha2New a e y1 y2 s1 s2 = \n",
    "    let \n",
    "        y2' = classToDbl y2     \n",
    "        e1 = classError y1 s1   \n",
    "        e2 = classError y2 s2   \n",
    "    in\n",
    "        a + y2' * (e1 - e2) / e -- Implementing eq 16\n",
    "        "
   ]
  },
  {
   "cell_type": "code",
   "execution_count": 14,
   "metadata": {
    "collapsed": true
   },
   "outputs": [],
   "source": [
    "-- Equation 17, \n",
    "alphaNewClipped :: (Num a, Ord a) => a -- alpha2New \n",
    "                   -> a                -- H\n",
    "                   -> a                -- L\n",
    "                   -> a\n",
    "alphaNewClipped a h l \n",
    "    | a >= h = h \n",
    "    | a <= l = l\n",
    "    | otherwise = a"
   ]
  },
  {
   "cell_type": "code",
   "execution_count": 15,
   "metadata": {
    "collapsed": false
   },
   "outputs": [],
   "source": [
    "-- Equation 18\n",
    "\n",
    "alpha1New :: Double   -- Alpha1\n",
    "                    -> ClassLabel -- True Label class1\n",
    "                    -> ClassLabel -- True Label class2\n",
    "                    -> Double -- Alpha2\n",
    "                    -> Double -- Alpha2Clipped\n",
    "                    -> Double\n",
    "alpha1New a y1 y2 a2 a2clip =\n",
    "    let \n",
    "        y1' = classToDbl y1\n",
    "        y2' = classToDbl y2\n",
    "        s = y1' * y2' \n",
    "    in \n",
    "        a + s * (a2 - a2clip)"
   ]
  },
  {
   "cell_type": "markdown",
   "metadata": {
    "collapsed": true
   },
   "source": [
    "Equation 19 has a rediculous number of equations!!!\n"
   ]
  },
  {
   "cell_type": "code",
   "execution_count": 16,
   "metadata": {
    "collapsed": false
   },
   "outputs": [],
   "source": [
    "scalarToDbl :: BaseScalar -> Double\n",
    "scalarToDbl s = s ! ( Z )\n",
    "\n",
    "calcS :: ClassLabel -> ClassLabel -> Double\n",
    "calcS y1 y2 =\n",
    "    classToDbl y1 * classToDbl y2"
   ]
  },
  {
   "cell_type": "code",
   "execution_count": 17,
   "metadata": {
    "collapsed": false
   },
   "outputs": [],
   "source": [
    "f1 :: Kernel -- Kernel Function\n",
    "      -> BaseScalar  -- Threshold\n",
    "      -> ClassLabel  -- True label for class1\n",
    "      -> ClassLabel  -- True label for class2 \n",
    "      -> ClassLabel  -- SVM label for class1\n",
    "      -> ClassLabel  -- SVM label for class2  (for consistent interface)\n",
    "      -> Double      -- Alpha1\n",
    "      -> Double      -- Alpha2 \n",
    "      -> Sample      -- sample x1\n",
    "      -> Sample      -- sample x2\n",
    "      -> Double\n",
    "f1 k b y1 y2 t1 _ a1 a2 x1 x2 =\n",
    "    let\n",
    "        y1' = classToDbl y1\n",
    "        y2' = classToDbl y2\n",
    "        s   = calcS y1 y2\n",
    "        k11 = scalarToDbl $ x1 `k` x1\n",
    "        k12 = scalarToDbl $ x1 `k` x2\n",
    "        b' = scalarToDbl b\n",
    "        e1 = classError y1 t1\n",
    "    in\n",
    "        y1'*(e1 + b') - a1*k11 - s * a2 *k12"
   ]
  },
  {
   "cell_type": "code",
   "execution_count": 18,
   "metadata": {
    "collapsed": false
   },
   "outputs": [],
   "source": [
    "f2 :: Kernel -- Kernel Function\n",
    "      -> BaseScalar  -- Threshold\n",
    "      -> ClassLabel  -- True label for class1 \n",
    "      -> ClassLabel  -- True label for class2 \n",
    "      -> ClassLabel  -- SVM label for class1 (for consistent interface)\n",
    "      -> ClassLabel  -- SVM label for class2\n",
    "      -> Double      -- Alpha1\n",
    "      -> Double      -- Alpha2 \n",
    "      -> Sample      -- sample x1\n",
    "      -> Sample      -- sample x2\n",
    "      -> Double\n",
    "f2 k b y1 y2 _ t2 a1 a2 x1 x2 =\n",
    "    let\n",
    "        y1' = classToDbl y1\n",
    "        y2' = classToDbl y2\n",
    "        s   = calcS y1 y2\n",
    "        k12 = scalarToDbl $ x1 `k` x2\n",
    "        k22 = scalarToDbl $ x2 `k` x2\n",
    "        b' = scalarToDbl b\n",
    "        e2 = classError y2 t2\n",
    "    in\n",
    "        y2'*(e2 + b') - s * a1 * k12 - a2*k22"
   ]
  },
  {
   "cell_type": "code",
   "execution_count": 19,
   "metadata": {
    "collapsed": true
   },
   "outputs": [],
   "source": [
    "l1 :: Double           -- alpha1\n",
    "      -> Double        -- alpha2\n",
    "      -> ClassLabel    -- True Label class1\n",
    "      -> ClassLabel    -- True label class2 \n",
    "      -> Double        -- lower bound of alpha2\n",
    "      -> Double\n",
    "l1 a1 a2 y1 y2 l =\n",
    "    let\n",
    "        s = calcS y1 y2\n",
    "    in\n",
    "        a1 + s * (a2 - l)\n",
    "        "
   ]
  },
  {
   "cell_type": "code",
   "execution_count": 20,
   "metadata": {
    "collapsed": false
   },
   "outputs": [],
   "source": [
    "h1 :: Double           -- alpha1\n",
    "     -> Double          -- alpha2\n",
    "      -> ClassLabel    -- True Label class1\n",
    "      -> ClassLabel    -- True label class2 \n",
    "      -> Double        -- upper bound of alpha2\n",
    "      -> Double\n",
    "h1 a1 a2 y1 y2 h =\n",
    "    let\n",
    "        s = calcS y1 y2\n",
    "    in\n",
    "        a1 + s * (a2 - h)\n",
    "        "
   ]
  },
  {
   "cell_type": "code",
   "execution_count": 21,
   "metadata": {
    "collapsed": true
   },
   "outputs": [],
   "source": [
    "psiLower :: Kernel        -- Kernel function\n",
    "            -> BaseScalar -- Threshold\n",
    "            -> Double     -- Alpha1\n",
    "            -> Double     -- Alpha2 \n",
    "            -> ClassLabel -- True label class1\n",
    "            -> ClassLabel -- True label class2\n",
    "            -> Sample     -- x1\n",
    "            -> Sample     -- x2\n",
    "            -> ClassLabel -- SVM predicted sample1\n",
    "            -> ClassLabel -- SVM predicted sample2\n",
    "            -> Double     -- L lower bound\n",
    "            -> Double\n",
    "psiLower k b a1 a2 y1 y2 x1 x2 t1 t2 l =\n",
    "    let\n",
    "        f1' = f1 k b y1 y2 t1 t2 a1 a2 x1 x2\n",
    "        f2' = f2 k b y1 y2 t1 t2 a1 a2 x1 x2\n",
    "        l1' = l1 a1 a2 y1 y2 l\n",
    "        s = calcS y1 y2\n",
    "        k11 = scalarToDbl $ x1 `k` x1\n",
    "        k12 = scalarToDbl $ x1 `k` x2\n",
    "        k22 = scalarToDbl $ x2 `k` x2\n",
    "    in\n",
    "        l1'*f1' + l*f2' \n",
    "            + 0.5*l1'*l1'*k11 \n",
    "            + 0.5*l1'*l1'*k22\n",
    "            + s*l*l1'*k12\n",
    "            \n",
    "            "
   ]
  },
  {
   "cell_type": "code",
   "execution_count": 22,
   "metadata": {
    "collapsed": false
   },
   "outputs": [],
   "source": [
    "psiUpper :: Kernel        -- Kernel function\n",
    "            -> BaseScalar -- Threshold\n",
    "            -> Double     -- Alpha1\n",
    "            -> Double     -- Alpha2 \n",
    "            -> ClassLabel -- True label class1\n",
    "            -> ClassLabel -- True label class2\n",
    "            -> Sample     -- x1\n",
    "            -> Sample     -- x2\n",
    "            -> ClassLabel -- SVM predicted sample1\n",
    "            -> ClassLabel -- SVM predicted sample2\n",
    "            -> Double     -- H upper bound\n",
    "            -> Double\n",
    "psiUpper k b a1 a2 y1 y2 x1 x2 t1 t2 h =\n",
    "    let\n",
    "        f1' = f1 k b y1 y2 t1 t2 a1 a2 x1 x2\n",
    "        f2' = f2 k b y1 y2 t1 t2 a1 a2 x1 x2\n",
    "        h1' = l1 a1 a2 y1 y2 h\n",
    "        s = calcS y1 y2\n",
    "        k11 = scalarToDbl $ x1 `k` x1\n",
    "        k12 = scalarToDbl $ x1 `k` x2\n",
    "        k22 = scalarToDbl $ x2 `k` x2\n",
    "    in\n",
    "        h1'*f1' + h*f2' \n",
    "            + 0.5*h1'*h1'*k11 \n",
    "            + 0.5*h1'*h1'*k22\n",
    "            + s*h*h1'*k12\n",
    "            "
   ]
  },
  {
   "cell_type": "markdown",
   "metadata": {},
   "source": [
    "# Understand Heuristic\n",
    "Ok, so now we need to understand section 2.2, Heuristics for choosing multipliers to optimise."
   ]
  },
  {
   "cell_type": "code",
   "execution_count": null,
   "metadata": {
    "collapsed": true
   },
   "outputs": [],
   "source": []
  }
 ],
 "metadata": {
  "kernelspec": {
   "display_name": "Haskell",
   "language": "haskell",
   "name": "haskell"
  },
  "language_info": {
   "codemirror_mode": "ihaskell",
   "file_extension": ".hs",
   "name": "haskell",
   "version": "7.10.3"
  }
 },
 "nbformat": 4,
 "nbformat_minor": 1
}
