{
 "cells": [
  {
   "cell_type": "code",
   "execution_count": 1,
   "metadata": {
    "collapsed": true
   },
   "outputs": [],
   "source": [
    "{-# LANGUAGE DataKinds, FlexibleContexts, QuasiQuotes, TemplateHaskell #-}"
   ]
  },
  {
   "cell_type": "code",
   "execution_count": 2,
   "metadata": {
    "collapsed": true
   },
   "outputs": [],
   "source": [
    "import Frames\n",
    "import Graphics.Rendering.Chart\n",
    "import Data.Foldable"
   ]
  },
  {
   "cell_type": "markdown",
   "metadata": {},
   "source": [
    "The goal is to add a new type to the \"universe of types\". In this case we want to allow Haskell to infer that a column is a Gender column by looking for the strings \"male\" and \"female\"\n",
    "Code grabbed from the https://github.com/acowley/Frames/blob/master/demo/TutorialUsers.hs"
   ]
  },
  {
   "cell_type": "code",
   "execution_count": 14,
   "metadata": {
    "collapsed": false
   },
   "outputs": [],
   "source": [
    "{-# LANGUAGE DataKinds, DeriveDataTypeable, TypeFamilies, TypeOperators, OverloadedStrings #-}\n",
    "module TitanicTypes where\n",
    "import Control.Monad (mzero)\n",
    "import qualified Data.Char as C\n",
    "import Data.Readable (Readable(fromText))\n",
    "import qualified Data.Text as T\n",
    "import Data.Typeable\n",
    "import qualified Data.Vector as V\n",
    "import Frames.InCore (VectorFor)\n",
    "import Frames.ColumnTypeable (Parseable)\n",
    "\n",
    "import Frames\n",
    "\n",
    "-- Making GenderT\n",
    "data GenderT = Male | Female deriving (Enum,Eq,Ord,Show,Typeable)\n",
    "\n",
    "type instance VectorFor GenderT = V.Vector\n",
    "\n",
    "instance Readable GenderT where\n",
    "  fromText \"male\" = return Male\n",
    "  fromText \"female\" = return Female\n",
    "  fromText _ = mzero\n",
    "  \n",
    "-- Very important to make GenderT an instance of Parsable!!!\n",
    "instance Parseable GenderT where\n",
    "\n",
    "-- Making Survived (basically the same thing!)\n",
    "\n",
    "data SurvivedT = Survived | Died deriving (Enum,Eq,Ord,Show,Typeable)\n",
    "\n",
    "type instance VectorFor SurvivedT = V.Vector\n",
    "\n",
    "instance Readable SurvivedT where\n",
    "  fromText \"1\" = return Survived\n",
    "  fromText \"0\" = return Died\n",
    "  fromText _ = mzero\n",
    "  \n",
    "-- Very important to make GenderT an instance of Parsable!!!\n",
    "instance Parseable SurvivedT where\n",
    "\n",
    "-- Add a \"class\" type\n",
    "data ClassT = First | Second | Third deriving (Enum,Eq,Ord,Show,Typeable)\n",
    "\n",
    "type instance VectorFor ClassT = V.Vector\n",
    "\n",
    "instance Readable ClassT where\n",
    "  fromText \"1\" = return First\n",
    "  fromText \"2\" = return Second\n",
    "  fromText \"3\" = return Third\n",
    "  fromText _ = mzero\n",
    "  \n",
    "-- Very important to make GenderT an instance of Parsable!!!\n",
    "instance Parseable ClassT where\n",
    "\n",
    "-- Add to the new types. \n",
    "type MyColumns = ClassT ': SurvivedT ': GenderT ': CommonColumns"
   ]
  },
  {
   "cell_type": "markdown",
   "metadata": {},
   "source": [
    "Following along with the Frames tutorial, we apparently need to use the following Template haskell"
   ]
  },
  {
   "cell_type": "code",
   "execution_count": 15,
   "metadata": {
    "collapsed": false
   },
   "outputs": [],
   "source": [
    "import Control.Applicative\n",
    "import qualified Control.Foldl as L\n",
    "import qualified Data.Foldable as F\n",
    "import Data.Proxy (Proxy(..))\n",
    "import Frames\n",
    "import Frames.CSV (readTableOpt, rowGen, RowGen(..))\n",
    "import Frames.CSV (colQ)\n",
    "import TitanicTypes\n",
    "\n",
    "\n",
    "tableTypes' rowGen { rowTypeName = \"CustRow\"\n",
    "                   , tablePrefix = \"u2\"\n",
    "                   , columnUniverse = $(colQ ''MyColumns) }\n",
    "            \"data/train.csv\""
   ]
  },
  {
   "cell_type": "code",
   "execution_count": 16,
   "metadata": {
    "collapsed": false
   },
   "outputs": [
    {
     "data": {},
     "metadata": {},
     "output_type": "display_data"
    }
   ],
   "source": [
    ":i CustRow"
   ]
  },
  {
   "cell_type": "markdown",
   "metadata": {},
   "source": [
    "Now the Type `CustRow` has correctly parsed the \"Sex\" column as a `GenderT`, and \"Survived\" as SurvivedT. However, \"SubSp\" and \"Parch\" have now also become a `SurvivedT` type!"
   ]
  },
  {
   "cell_type": "markdown",
   "metadata": {},
   "source": [
    "We can use the function `tableTypes` from the `Frames` library to generate a type `Row` for our CSV file, after that we can make a loader function that will load a `Frame` from the file."
   ]
  },
  {
   "cell_type": "code",
   "execution_count": 8,
   "metadata": {
    "collapsed": true
   },
   "outputs": [],
   "source": [
    "\n",
    "loadRows :: IO (Frame CustRow)\n",
    "loadRows = inCoreAoS $ readTable \"data/train.csv\""
   ]
  },
  {
   "cell_type": "code",
   "execution_count": 9,
   "metadata": {
    "collapsed": true
   },
   "outputs": [],
   "source": [
    "loadRows"
   ]
  },
  {
   "cell_type": "markdown",
   "metadata": {},
   "source": [
    "We can inspect the **row** type:"
   ]
  },
  {
   "cell_type": "code",
   "execution_count": 10,
   "metadata": {
    "collapsed": false
   },
   "outputs": [
    {
     "data": {},
     "metadata": {},
     "output_type": "display_data"
    }
   ],
   "source": [
    ":i CustRow"
   ]
  },
  {
   "cell_type": "markdown",
   "metadata": {},
   "source": [
    "It gives us the following:\n",
    "```hs\n",
    "type Row =\n",
    "    Record\n",
    "        '[\"PassengerId\" :-> Int\n",
    "         , \"Survived\"   :-> SurvivedT\n",
    "         , \"Pclass\"     :-> Int\n",
    "         , \"Name\"       :-> Text\n",
    "         , \"Sex\"        :-> GenderT\n",
    "         , \"Age\"        :-> Int\n",
    "         , \"SibSp\"      :-> Int\n",
    "         , \"Parch\"      :-> Int\n",
    "         , \"Embarked\"   :-> Int\n",
    "         ]\n",
    "```"
   ]
  },
  {
   "cell_type": "code",
   "execution_count": 11,
   "metadata": {
    "collapsed": false,
    "scrolled": true
   },
   "outputs": [],
   "source": [
    "rows <- loadRows"
   ]
  },
  {
   "cell_type": "code",
   "execution_count": 12,
   "metadata": {
    "collapsed": false
   },
   "outputs": [
    {
     "data": {
      "text/plain": [
       "{PassengerId :-> 4, Survived :-> Survived, Pclass :-> 1, Name :-> \"Futrelle, Mrs. Jacques Heath (Lily May Peel)\", Sex :-> Female, Age :-> 35, SibSp :-> Survived, Parch :-> Died, Ticket :-> 113803, Fare :-> 53.1, Cabin :-> \"C123\", Embarked :-> \"S\"}"
      ]
     },
     "metadata": {},
     "output_type": "display_data"
    }
   ],
   "source": [
    "rec1 = head $ toList rows\n",
    "rec1"
   ]
  },
  {
   "cell_type": "markdown",
   "metadata": {},
   "source": [
    "We can see that this visualization style is not really comfortable, as it is just printing the `Text` representation of the record. We could try to render this as an HTML table:"
   ]
  },
  {
   "cell_type": "code",
   "execution_count": 11,
   "metadata": {
    "collapsed": false
   },
   "outputs": [
    {
     "data": {
      "text/plain": [
       "\"4\"\n",
       "\"True\"\n",
       "\"1\"\n",
       "\"\\\"Futrelle, Mrs. Jacques Heath (Lily May Peel)\\\"\"\n",
       "\"\\\"female\\\"\"\n",
       "\"35\"\n",
       "\"1\"\n",
       "\"0\"\n",
       "\"113803\"\n",
       "\"53.1\"\n",
       "\"\\\"C123\\\"\"\n",
       "\"\\\"S\\\"\""
      ]
     },
     "metadata": {},
     "output_type": "display_data"
    }
   ],
   "source": [
    "import Graphics.Rendering.Chart.Easy\n",
    "import IHaskell.Display\n",
    "import Data.Vinyl.Core\n",
    "import Data.Vinyl\n",
    "\n",
    "\n",
    "\n",
    "mapM_ print $ showFields rec1"
   ]
  }
 ],
 "metadata": {
  "kernelspec": {
   "display_name": "Haskell",
   "language": "haskell",
   "name": "haskell"
  },
  "language_info": {
   "codemirror_mode": "ihaskell",
   "file_extension": ".hs",
   "name": "haskell",
   "version": "7.10.3"
  }
 },
 "nbformat": 4,
 "nbformat_minor": 1
}
