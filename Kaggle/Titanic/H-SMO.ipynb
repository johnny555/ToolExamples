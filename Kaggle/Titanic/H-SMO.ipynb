{
 "cells": [
  {
   "cell_type": "markdown",
   "metadata": {},
   "source": [
    "# SMO implementation\n",
    "Attempting to implement the SMO (https://www.microsoft.com/en-us/research/wp-content/uploads/2016/02/tr-98-14.pdf). \n",
    "\n",
    "Also consider https://www.csie.ntu.edu.tw/~cjlin/papers/bottou_lin.pdf"
   ]
  },
  {
   "cell_type": "markdown",
   "metadata": {},
   "source": [
    "First step, we wil need to be able to evaluate the SVM on\n",
    "a single instance. "
   ]
  },
  {
   "cell_type": "markdown",
   "metadata": {},
   "source": [
    "I initially explored hmatrix, but then I realised that I don't need matrix inversion for this algorithm, so using Repa would be better\n",
    "`--import Numeric.LinearAlgebra`\n"
   ]
  },
  {
   "cell_type": "code",
   "execution_count": 1,
   "metadata": {
    "collapsed": false
   },
   "outputs": [],
   "source": [
    "{- LANGUAGE XTypeOperators -}\n",
    "import  Data.Array.Repa\n",
    "import qualified Data.Array.Repa as R\n"
   ]
  },
  {
   "cell_type": "code",
   "execution_count": 2,
   "metadata": {
    "collapsed": false
   },
   "outputs": [],
   "source": [
    "import Data.Array.Repa.Repr.Vector"
   ]
  },
  {
   "cell_type": "code",
   "execution_count": 3,
   "metadata": {
    "collapsed": false
   },
   "outputs": [],
   "source": [
    "import Data.Array.Repa.Repr.Vector                   as RV"
   ]
  },
  {
   "cell_type": "code",
   "execution_count": 4,
   "metadata": {
    "collapsed": false
   },
   "outputs": [
    {
     "data": {},
     "metadata": {},
     "output_type": "display_data"
    }
   ],
   "source": [
    ":i RV.fromListVector"
   ]
  },
  {
   "cell_type": "code",
   "execution_count": 5,
   "metadata": {
    "collapsed": false
   },
   "outputs": [],
   "source": [
    "type BaseVector = Array U DIM1 Double\n",
    "type BaseScalar = Array U Z Double\n",
    "\n",
    "type Sample = BaseVector\n",
    "type Weights = BaseVector\n",
    "type Threshold = BaseScalar\n",
    "\n",
    "-- There is probably an opportunity to build a type-class around the \n",
    "-- rules for composing kernel functions. \n",
    "type Kernel = BaseVector -> BaseVector -> BaseScalar\n",
    "\n",
    "data ClassLabel = Class1 | Class2 deriving (Show, Eq)\n",
    "\n",
    "\n",
    "chooseClass :: Double -> ClassLabel\n",
    "chooseClass res = if res >= 0 then Class1 else Class2\n",
    "             \n",
    "dot :: Kernel\n",
    "dot a b =  foldS (+) 0 ( a *^ b) \n",
    "\n",
    "svm :: Kernel -> Weights -> Threshold -> Sample -> ClassLabel\n",
    "svm k w b x = let\n",
    "                res = (w `k` x) -^ b\n",
    "              in \n",
    "                chooseClass  $ res ! Z\n",
    "                \n",
    "linearSvm :: Weights -> Threshold -> Sample -> ClassLabel\n",
    "linearSvm = svm dot"
   ]
  },
  {
   "cell_type": "code",
   "execution_count": null,
   "metadata": {
    "collapsed": false
   },
   "outputs": [],
   "source": []
  },
  {
   "cell_type": "code",
   "execution_count": 6,
   "metadata": {
    "collapsed": false
   },
   "outputs": [
    {
     "data": {
      "text/plain": [
       "Class1"
      ]
     },
     "metadata": {},
     "output_type": "display_data"
    }
   ],
   "source": [
    "x_inputs = [1..10] :: [Double]\n",
    "w_inputs = [11..20] :: [Double]\n",
    "x = fromListUnboxed (Z :. (10::Int))  x_inputs\n",
    "w = fromListUnboxed (Z :. (10::Int))  w_inputs\n",
    "\n",
    "thresh = fromListUnboxed Z ([2] :: [Double])\n",
    "\n",
    "svm dot w thresh x "
   ]
  },
  {
   "cell_type": "code",
   "execution_count": 7,
   "metadata": {
    "collapsed": false
   },
   "outputs": [
    {
     "data": {
      "text/plain": [
       "Class2"
      ]
     },
     "metadata": {},
     "output_type": "display_data"
    }
   ],
   "source": [
    "largethresh = fromListUnboxed Z ([1000] :: [Double])\n",
    "\n",
    "svm dot w largethresh x "
   ]
  },
  {
   "cell_type": "markdown",
   "metadata": {},
   "source": [
    "# Build Helper Functions \n",
    "Now that we can evaluate the SVM we need to work towards building the simple functions described in the paper. "
   ]
  },
  {
   "cell_type": "code",
   "execution_count": 8,
   "metadata": {
    "collapsed": false
   },
   "outputs": [],
   "source": [
    "-- equation 13\n",
    "lowerAlpha :: (Num val, Ord val) => val -> Bool -> val -> val -> val\n",
    "lowerAlpha c True a1 a2 = max 0 (a1 - a2)\n",
    "lowerAlpha c False a1 a2 = max 0 (a1 - a2 - c)\n",
    "\n",
    "-- equation 14\n",
    "upperAlpha :: (Num val, Ord val) => val -> Bool -> val -> val -> val\n",
    "upperAlpha c True a1 a2 = min c (c + a1 - a2)\n",
    "upperAlpha c False a1 a2 = min c (a1 - a2)\n",
    "                                "
   ]
  },
  {
   "cell_type": "code",
   "execution_count": null,
   "metadata": {
    "collapsed": true
   },
   "outputs": [],
   "source": []
  },
  {
   "cell_type": "code",
   "execution_count": 9,
   "metadata": {
    "collapsed": false
   },
   "outputs": [],
   "source": [
    "-- Make a scalar multiplication operator\n",
    "(.*) :: Double -> BaseScalar -> BaseScalar\n",
    "(.*) val vec = R.computeUnboxedS $ R.map (\\x -> val*x) vec\n",
    "\n",
    "-- Make Vector into a scalar\n",
    "squish :: BaseVector -> BaseScalar\n",
    "squish v = computeS $ backpermute (Z) (undefined) v \n",
    "\n",
    "unsquish :: BaseScalar -> BaseVector\n",
    "unsquish v = computeS $ backpermute (undefined) (undefined) v\n",
    "\n",
    "-- equation 15, 2nd Derivative\n",
    "eta :: Kernel -> Sample -> Sample -> BaseScalar\n",
    "eta k x1 x2 =  R.computeUnboxedS $ (x1 `k` x1) +^ (x2 `k` x2) -^ (2 .* (x1 `k` x2) )"
   ]
  },
  {
   "cell_type": "code",
   "execution_count": 10,
   "metadata": {
    "collapsed": false
   },
   "outputs": [
    {
     "data": {
      "text/plain": [
       "AUnboxed Z [1000.0]"
      ]
     },
     "metadata": {},
     "output_type": "display_data"
    }
   ],
   "source": [
    "eta dot x w"
   ]
  },
  {
   "cell_type": "code",
   "execution_count": 48,
   "metadata": {
    "collapsed": true
   },
   "outputs": [],
   "source": [
    "wrapScalar :: Double -> BaseScalar\n",
    "wrapScalar s = fromListUnboxed Z ([s] :: [Double])\n",
    "\n",
    "\n",
    "classToDbl ::  ClassLabel -> Double\n",
    "classToDbl Class1 = 1\n",
    "classToDbl Class2 = -1\n",
    "\n",
    "classToScalar :: ClassLabel -> BaseScalar\n",
    "classToScalar a = wrapScalar $ classToDbl a\n"
   ]
  },
  {
   "cell_type": "code",
   "execution_count": 46,
   "metadata": {
    "collapsed": false
   },
   "outputs": [],
   "source": [
    "classError :: Num a => ClassLabel -> ClassLabel -> Double\n",
    "classError label1 label2 = (classToDbl label1) - ( classToDbl label2)"
   ]
  },
  {
   "cell_type": "code",
   "execution_count": 50,
   "metadata": {
    "collapsed": false
   },
   "outputs": [],
   "source": [
    "-- equation 16, minimum along contstraint direction\n",
    "alpha2New :: Double      -- Current Alpha Value\n",
    "             -> Double   -- Result of the graidient calculation\n",
    "             -> ClassLabel   -- TrueLabel of point1\n",
    "             -> ClassLabel   -- TrueLabel of point2\n",
    "             -> ClassLabel   -- Predicted Label of point1\n",
    "             -> ClassLabel   -- Predicted Label of point2 \n",
    "             -> Double   -- New alpha\n",
    "alpha2New a e y1 y2 s1 s2 = \n",
    "    let \n",
    "        y2' = classToDbl y2     \n",
    "        e1 = classError y1 s1   \n",
    "        e2 = classError y2 s2   \n",
    "    in\n",
    "        a + y2' * (e1 - e2) / e -- Implementing eq 16\n",
    "        "
   ]
  },
  {
   "cell_type": "code",
   "execution_count": 51,
   "metadata": {
    "collapsed": true
   },
   "outputs": [],
   "source": [
    "-- Equation 17, \n",
    "alphaNewClipped :: (Num a, Ord a) => a -- alpha2New \n",
    "                   -> a                -- H\n",
    "                   -> a                -- L\n",
    "                   -> a\n",
    "alphaNewClipped a h l \n",
    "    | a >= h = h -- will fail typechecker might need to cast or something...\n",
    "    | a <= l = l\n",
    "    | otherwise = a"
   ]
  },
  {
   "cell_type": "code",
   "execution_count": 53,
   "metadata": {
    "collapsed": false
   },
   "outputs": [],
   "source": [
    "-- Equation 18\n",
    "\n",
    "alpha1New :: Double   -- Alpha1\n",
    "                    -> ClassLabel -- True Label class1\n",
    "                    -> ClassLabel -- True Label class2\n",
    "                    -> Double -- Alpha2\n",
    "                    -> Double -- Alpha2Clipped\n",
    "                    -> Double\n",
    "alpha1New a y1 y2 a2 a2clip =\n",
    "    let \n",
    "        y1' = classToDbl y1\n",
    "        y2' = classToDbl y2\n",
    "        s = y1' * y2' \n",
    "    in \n",
    "        a + s * (a2 - a2clip)"
   ]
  },
  {
   "cell_type": "code",
   "execution_count": null,
   "metadata": {
    "collapsed": true
   },
   "outputs": [],
   "source": []
  }
 ],
 "metadata": {
  "kernelspec": {
   "display_name": "Haskell",
   "language": "haskell",
   "name": "haskell"
  },
  "language_info": {
   "codemirror_mode": "ihaskell",
   "file_extension": ".hs",
   "name": "haskell",
   "version": "7.10.3"
  }
 },
 "nbformat": 4,
 "nbformat_minor": 1
}
