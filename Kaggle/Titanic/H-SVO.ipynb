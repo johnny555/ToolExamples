{
 "cells": [
  {
   "cell_type": "markdown",
   "metadata": {},
   "source": [
    "# SMO implementation\n",
    "Attempting to implement the SMO (https://www.microsoft.com/en-us/research/wp-content/uploads/2016/02/tr-98-14.pdf). \n"
   ]
  },
  {
   "cell_type": "markdown",
   "metadata": {},
   "source": [
    "First step, we wil need to be able to evaluate the SVM on\n",
    "a single instance. "
   ]
  },
  {
   "cell_type": "markdown",
   "metadata": {},
   "source": [
    "I initially explored hmatrix, but then I realised that I don't need matrix inversion for this algorithm, so using Repa would be better\n",
    "`--import Numeric.LinearAlgebra`\n"
   ]
  },
  {
   "cell_type": "code",
   "execution_count": null,
   "metadata": {
    "collapsed": false
   },
   "outputs": [],
   "source": [
    "{- LANGUAGE XTypeOperators -}\n",
    "import  Data.Array.Repa\n"
   ]
  },
  {
   "cell_type": "code",
   "execution_count": null,
   "metadata": {
    "collapsed": false
   },
   "outputs": [],
   "source": [
    "type BaseVector = Array U DIM1 Double\n",
    "type BaseScalar = Array U Z Double\n",
    "\n",
    "type Sample = BaseVector\n",
    "type Weights = BaseVector\n",
    "type Threshold = BaseScalar\n",
    "type Kernel = BaseVector -> BaseVector -> BaseScalar\n",
    "\n",
    "data ClassLabel = Class1 | Class2 deriving (Show)\n",
    "\n",
    "\n",
    "chooseClass :: Double -> ClassLabel\n",
    "chooseClass res = if res >= 0 then Class1 else Class2\n",
    "             \n",
    "dot :: Kernel\n",
    "dot a b = foldS (+) 0 ( a *^ b)              \n",
    "\n",
    "svm :: Kernel -> Weights -> Threshold -> Sample -> ClassLabel\n",
    "svm k w b x = let\n",
    "                res = (w `k` x) -^ b\n",
    "              in \n",
    "                chooseClass  $ res ! Z\n",
    "                \n"
   ]
  },
  {
   "cell_type": "code",
   "execution_count": null,
   "metadata": {
    "collapsed": false
   },
   "outputs": [],
   "source": [
    "x_inputs = [1..10] :: [Double]\n",
    "w_inputs = [11..20] :: [Double]\n",
    "x = fromListUnboxed (Z :. (10::Int))  x_inputs\n",
    "w = fromListUnboxed (Z :. (10::Int))  w_inputs\n",
    "\n",
    "thresh = fromListUnboxed (Z) ([2] :: [Double])\n",
    "\n",
    "svm dot w thresh x "
   ]
  },
  {
   "cell_type": "code",
   "execution_count": null,
   "metadata": {
    "collapsed": false
   },
   "outputs": [],
   "source": [
    "largethresh = fromListUnboxed (Z) ([1000] :: [Double])\n",
    "\n",
    "svm dot w largethresh x "
   ]
  }
 ],
 "metadata": {
  "kernelspec": {
   "display_name": "Haskell",
   "language": "haskell",
   "name": "haskell"
  },
  "language_info": {
   "codemirror_mode": "ihaskell",
   "file_extension": ".hs",
   "name": "haskell",
   "version": "7.10.3"
  }
 },
 "nbformat": 4,
 "nbformat_minor": 1
}
