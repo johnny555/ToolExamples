{
 "cells": [
  {
   "cell_type": "markdown",
   "metadata": {},
   "source": [
    "# SMO implementation\n",
    "Attempting to implement the SMO (https://www.microsoft.com/en-us/research/wp-content/uploads/2016/02/tr-98-14.pdf). \n",
    "\n",
    "Also consider https://www.csie.ntu.edu.tw/~cjlin/papers/bottou_lin.pdf"
   ]
  },
  {
   "cell_type": "markdown",
   "metadata": {},
   "source": [
    "First step, we wil need to be able to evaluate the SVM on\n",
    "a single instance. "
   ]
  },
  {
   "cell_type": "markdown",
   "metadata": {},
   "source": [
    "I initially explored hmatrix, but then I realised that I don't need matrix inversion for this algorithm, so using Repa would be better\n",
    "`--import Numeric.LinearAlgebra`\n"
   ]
  },
  {
   "cell_type": "code",
   "execution_count": 1,
   "metadata": {
    "collapsed": false
   },
   "outputs": [],
   "source": [
    "{- LANGUAGE XTypeOperators -}\n",
    "import  Data.Array.Repa\n",
    "import qualified Data.Array.Repa as R\n"
   ]
  },
  {
   "cell_type": "code",
   "execution_count": 2,
   "metadata": {
    "collapsed": false
   },
   "outputs": [],
   "source": [
    "import Data.Array.Repa.Repr.Vector"
   ]
  },
  {
   "cell_type": "code",
   "execution_count": 3,
   "metadata": {
    "collapsed": false
   },
   "outputs": [],
   "source": [
    "import Data.Array.Repa.Repr.Vector                   as RV"
   ]
  },
  {
   "cell_type": "code",
   "execution_count": 4,
   "metadata": {
    "collapsed": false
   },
   "outputs": [
    {
     "data": {},
     "metadata": {},
     "output_type": "display_data"
    }
   ],
   "source": [
    ":i RV.fromListVector"
   ]
  },
  {
   "cell_type": "code",
   "execution_count": 5,
   "metadata": {
    "collapsed": false
   },
   "outputs": [],
   "source": [
    "type Value = Double\n",
    "\n",
    "type BaseVector = Array U DIM1 Value\n",
    "type BaseScalar = Array U Z Value\n",
    "\n",
    "--type Sample = BaseVector\n",
    "--type Weights = BaseVector\n",
    "\n",
    "-- Making these types to attempt to make the system more type-safe\n",
    "data Sample = Sample BaseVector\n",
    "data Weights = Weights BaseVector\n",
    "\n",
    "weightAsSample :: Weights -> Sample\n",
    "weightAsSample (Weights w) = Sample w\n",
    "\n",
    "type Threshold = BaseScalar\n",
    "\n",
    "-- There is probably an opportunity to build a type-class around the \n",
    "-- rules for composing kernel functions. \n",
    "type Kernel = Sample -> Sample -> BaseScalar\n",
    "\n",
    "data ClassLabel = Class1 | Class2 deriving (Show, Eq)\n",
    "\n",
    "-- An SVM pre\n",
    "data PredictedLabel = PredictClass1 Value | PredictClass2 Value deriving (Show, Eq)\n",
    "\n",
    "\n",
    "getLabelValue :: PredictedLabel -> Value\n",
    "getLabelValue (PredictClass1 v) = v\n",
    "getLabelValue (PredictClass2 v) = v\n",
    "\n",
    "predictToTrue :: PredictedLabel -> ClassLabel\n",
    "predictToTrue (PredictClass1 _) = Class1\n",
    "predictToTrue (PredictClass2 _) = Class2\n",
    "\n",
    "\n",
    "chooseClass :: Value -> PredictedLabel\n",
    "chooseClass res = if res >= 0 then PredictClass1 res else PredictClass2 res\n",
    "             \n",
    "dot :: Kernel\n",
    "dot (Sample a) (Sample b) =  foldS (+) 0 ( a *^ b) \n",
    "\n",
    "svm :: Kernel -> Weights -> Threshold -> Sample -> PredictedLabel\n",
    "svm k w b x = let\n",
    "                res = ((weightAsSample w) `k` x) -^ b\n",
    "              in \n",
    "                chooseClass  $ res ! Z\n",
    "                \n",
    "linearSvm :: Weights -> Threshold -> Sample -> PredictedLabel\n",
    "linearSvm = svm dot"
   ]
  },
  {
   "cell_type": "code",
   "execution_count": null,
   "metadata": {
    "collapsed": false
   },
   "outputs": [],
   "source": []
  },
  {
   "cell_type": "code",
   "execution_count": 6,
   "metadata": {
    "collapsed": false
   },
   "outputs": [
    {
     "data": {
      "text/plain": [
       "PredictClass1 933.0"
      ]
     },
     "metadata": {},
     "output_type": "display_data"
    }
   ],
   "source": [
    "x_inputs = [1..10] :: [Value]\n",
    "w_inputs = [11..20] :: [Value]\n",
    "x = Sample $ fromListUnboxed (Z :. (10::Int))  x_inputs\n",
    "w = Weights $ fromListUnboxed (Z :. (10::Int))  w_inputs\n",
    "\n",
    "thresh = fromListUnboxed Z ([2] :: [Value])\n",
    "\n",
    "svm dot  w thresh  x "
   ]
  },
  {
   "cell_type": "code",
   "execution_count": 7,
   "metadata": {
    "collapsed": false
   },
   "outputs": [
    {
     "data": {
      "text/plain": [
       "PredictClass2 (-65.0)"
      ]
     },
     "metadata": {},
     "output_type": "display_data"
    }
   ],
   "source": [
    "largethresh = fromListUnboxed Z ([1000] :: [Value])\n",
    "\n",
    "svm dot  w largethresh x"
   ]
  },
  {
   "cell_type": "markdown",
   "metadata": {},
   "source": [
    "# Build Helper Functions \n",
    "Now that we can evaluate the SVM we need to work towards building the simple functions described in the paper. "
   ]
  },
  {
   "cell_type": "code",
   "execution_count": 8,
   "metadata": {
    "collapsed": false
   },
   "outputs": [],
   "source": [
    "-- equation 13\n",
    "lowerAlpha :: (Num val, Ord val) => val -> Bool -> val -> val -> val\n",
    "lowerAlpha c True a1 a2 = max 0 (a1 - a2)\n",
    "lowerAlpha c False a1 a2 = max 0 (a1 - a2 - c)\n",
    "\n",
    "-- equation 14\n",
    "upperAlpha :: (Num val, Ord val) => val -> Bool -> val -> val -> val\n",
    "upperAlpha c True a1 a2 = min c (c + a1 - a2)\n",
    "upperAlpha c False a1 a2 = min c (a1 - a2)\n",
    "                                "
   ]
  },
  {
   "cell_type": "code",
   "execution_count": null,
   "metadata": {
    "collapsed": true
   },
   "outputs": [],
   "source": []
  },
  {
   "cell_type": "code",
   "execution_count": 9,
   "metadata": {
    "collapsed": false
   },
   "outputs": [],
   "source": [
    "-- Make a scalar multiplication operator\n",
    "(.*) :: Value -> BaseScalar -> BaseScalar\n",
    "(.*) val vec = R.computeUnboxedS $ R.map (\\x -> val*x) vec\n",
    "\n",
    "-- Make Vector into a scalar\n",
    "squish :: BaseVector -> BaseScalar\n",
    "squish v = computeS $ backpermute (Z) (undefined) v \n",
    "\n",
    "unsquish :: BaseScalar -> BaseVector\n",
    "unsquish v = computeS $ backpermute (undefined) (undefined) v\n",
    "\n",
    "-- equation 15, 2nd Derivative\n",
    "eta :: Kernel -> Sample -> Sample -> BaseScalar\n",
    "eta k x1 x2 =  R.computeUnboxedS $ (x1 `k` x1) +^ (x2 `k` x2) -^ (2 .* (x1 `k` x2) )"
   ]
  },
  {
   "cell_type": "code",
   "execution_count": 10,
   "metadata": {
    "collapsed": false
   },
   "outputs": [
    {
     "data": {
      "text/plain": [
       "AUnboxed Z [0.0]"
      ]
     },
     "metadata": {},
     "output_type": "display_data"
    }
   ],
   "source": [
    "eta dot x x"
   ]
  },
  {
   "cell_type": "code",
   "execution_count": 11,
   "metadata": {
    "collapsed": false
   },
   "outputs": [],
   "source": [
    "wrapScalar :: Value -> BaseScalar\n",
    "wrapScalar s = fromListUnboxed Z ([s] :: [Value])\n",
    "\n",
    "\n",
    "classToDbl ::  ClassLabel -> Value\n",
    "classToDbl Class1 = 1\n",
    "classToDbl Class2 = -1\n",
    "\n",
    "classToScalar :: ClassLabel -> BaseScalar\n",
    "classToScalar a = wrapScalar $ classToDbl a\n"
   ]
  },
  {
   "cell_type": "code",
   "execution_count": 12,
   "metadata": {
    "collapsed": false
   },
   "outputs": [],
   "source": [
    "classError :: ClassLabel -> PredictedLabel -> Value\n",
    "classError trueLabel predLabel =\n",
    "    let\n",
    "        predClass = predictToTrue predLabel\n",
    "        predVal = getLabelValue predLabel\n",
    "        classVal = classToDbl trueLabel\n",
    "    in\n",
    "        if trueLabel == predClass then 0 else classVal - predVal"
   ]
  },
  {
   "cell_type": "code",
   "execution_count": 13,
   "metadata": {
    "collapsed": false
   },
   "outputs": [],
   "source": [
    "-- equation 16, minimum along contstraint direction\n",
    "alpha2New :: Value      -- Current Alpha Value\n",
    "             -> Value   -- Result of the graidient calculation\n",
    "             -> ClassLabel   -- TrueLabel of point1\n",
    "             -> ClassLabel   -- TrueLabel of point2\n",
    "             -> PredictedLabel   -- Predicted Label of point1\n",
    "             -> PredictedLabel   -- Predicted Label of point2 \n",
    "             -> Value   -- New alpha\n",
    "alpha2New a e y1 y2 s1 s2 = \n",
    "    let \n",
    "        y2' = classToDbl y2     \n",
    "        e1 = classError y1 s1   \n",
    "        e2 = classError y2 s2   \n",
    "    in\n",
    "        a + y2' * (e1 - e2) / e -- Implementing eq 16\n",
    "        "
   ]
  },
  {
   "cell_type": "code",
   "execution_count": 14,
   "metadata": {
    "collapsed": true
   },
   "outputs": [],
   "source": [
    "-- Equation 17, \n",
    "alphaNewClipped :: (Num a, Ord a) => a -- alpha2New \n",
    "                   -> a                -- H\n",
    "                   -> a                -- L\n",
    "                   -> a\n",
    "alphaNewClipped a h l \n",
    "    | a >= h = h \n",
    "    | a <= l = l\n",
    "    | otherwise = a"
   ]
  },
  {
   "cell_type": "code",
   "execution_count": 15,
   "metadata": {
    "collapsed": false
   },
   "outputs": [],
   "source": [
    "scalarToDbl :: BaseScalar -> Value\n",
    "scalarToDbl s = s ! ( Z )\n",
    "\n",
    "calcS :: ClassLabel -> ClassLabel -> Value\n",
    "calcS y1 y2 =\n",
    "    classToDbl y1 * classToDbl y2"
   ]
  },
  {
   "cell_type": "code",
   "execution_count": 16,
   "metadata": {
    "collapsed": false
   },
   "outputs": [],
   "source": [
    "-- Equation 18\n",
    "\n",
    "alpha1New :: Value   -- Alpha1\n",
    "                    -> ClassLabel -- True Label class1\n",
    "                    -> ClassLabel -- True Label class2\n",
    "                    -> Value -- Alpha2\n",
    "                    -> Value -- Alpha2Clipped\n",
    "                    -> Value\n",
    "alpha1New a y1 y2 a2 a2clip =\n",
    "    let \n",
    "        s = calcS y1 y2 \n",
    "    in \n",
    "        a + s * (a2 - a2clip)"
   ]
  },
  {
   "cell_type": "markdown",
   "metadata": {
    "collapsed": true
   },
   "source": [
    "Equation 19 has a rediculous number of equations!!!\n"
   ]
  },
  {
   "cell_type": "code",
   "execution_count": 17,
   "metadata": {
    "collapsed": false
   },
   "outputs": [],
   "source": [
    "f1 :: Kernel -- Kernel Function\n",
    "      -> BaseScalar  -- Threshold\n",
    "      -> ClassLabel  -- True label for class1\n",
    "      -> ClassLabel  -- True label for class2 \n",
    "      -> PredictedLabel  -- SVM label for class1\n",
    "      -> PredictedLabel  -- SVM label for class2  (for consistent interface)\n",
    "      -> Value      -- Alpha1\n",
    "      -> Value      -- Alpha2 \n",
    "      -> Sample      -- sample x1\n",
    "      -> Sample      -- sample x2\n",
    "      -> Value\n",
    "f1 k b y1 y2 t1 _ a1 a2 x1 x2 =\n",
    "    let\n",
    "        y1' = classToDbl y1\n",
    "        y2' = classToDbl y2\n",
    "        s   = calcS y1 y2\n",
    "        k11 = scalarToDbl $ x1 `k` x1\n",
    "        k12 = scalarToDbl $ x1 `k` x2\n",
    "        b' = scalarToDbl b\n",
    "        e1 = classError y1 t1\n",
    "    in\n",
    "        y1'*(e1 + b') - a1*k11 - s * a2 *k12"
   ]
  },
  {
   "cell_type": "code",
   "execution_count": 18,
   "metadata": {
    "collapsed": false
   },
   "outputs": [],
   "source": [
    "f2 :: Kernel -- Kernel Function\n",
    "      -> BaseScalar  -- Threshold\n",
    "      -> ClassLabel  -- True label for class1 \n",
    "      -> ClassLabel  -- True label for class2 \n",
    "      -> PredictedLabel  -- SVM label for class1 (for consistent interface)\n",
    "      -> PredictedLabel  -- SVM label for class2\n",
    "      -> Value      -- Alpha1\n",
    "      -> Value      -- Alpha2 \n",
    "      -> Sample      -- sample x1\n",
    "      -> Sample      -- sample x2\n",
    "      -> Value\n",
    "f2 k b y1 y2 _ t2 a1 a2 x1 x2 =\n",
    "    let\n",
    "        y1' = classToDbl y1\n",
    "        y2' = classToDbl y2\n",
    "        s   = calcS y1 y2\n",
    "        k12 = scalarToDbl $ x1 `k` x2\n",
    "        k22 = scalarToDbl $ x2 `k` x2\n",
    "        b' = scalarToDbl b\n",
    "        e2 = classError y2 t2\n",
    "    in\n",
    "        y2'*(e2 + b') - s * a1 * k12 - a2*k22"
   ]
  },
  {
   "cell_type": "code",
   "execution_count": 19,
   "metadata": {
    "collapsed": false
   },
   "outputs": [],
   "source": [
    "l1 :: Value           -- alpha1\n",
    "      -> Value        -- alpha2\n",
    "      -> ClassLabel    -- True Label class1\n",
    "      -> ClassLabel    -- True label class2 \n",
    "      -> Value        -- lower bound of alpha2\n",
    "      -> Value\n",
    "l1 a1 a2 y1 y2 l =\n",
    "    let\n",
    "        s = calcS y1 y2\n",
    "    in\n",
    "        a1 + s * (a2 - l)\n",
    "        "
   ]
  },
  {
   "cell_type": "code",
   "execution_count": 20,
   "metadata": {
    "collapsed": false
   },
   "outputs": [],
   "source": [
    "h1 :: Value           -- alpha1\n",
    "     -> Value          -- alpha2\n",
    "      -> ClassLabel    -- True Label class1\n",
    "      -> ClassLabel    -- True label class2 \n",
    "      -> Value        -- upper bound of alpha2\n",
    "      -> Value\n",
    "h1 a1 a2 y1 y2 h =\n",
    "    let\n",
    "        s = calcS y1 y2\n",
    "    in\n",
    "        a1 + s * (a2 - h)\n",
    "        "
   ]
  },
  {
   "cell_type": "code",
   "execution_count": 21,
   "metadata": {
    "collapsed": false
   },
   "outputs": [],
   "source": [
    "psiLower :: Kernel        -- Kernel function\n",
    "            -> BaseScalar -- Threshold\n",
    "            -> Value     -- Alpha1\n",
    "            -> Value     -- Alpha2 \n",
    "            -> ClassLabel -- True label class1\n",
    "            -> ClassLabel -- True label class2\n",
    "            -> Sample     -- x1\n",
    "            -> Sample     -- x2\n",
    "            -> PredictedLabel -- SVM predicted sample1\n",
    "            -> PredictedLabel -- SVM predicted sample2\n",
    "            -> Value     -- L lower bound\n",
    "            -> Value\n",
    "psiLower k b a1 a2 y1 y2 x1 x2 t1 t2 l =\n",
    "    let\n",
    "        f1' = f1 k b y1 y2 t1 t2 a1 a2 x1 x2\n",
    "        f2' = f2 k b y1 y2 t1 t2 a1 a2 x1 x2\n",
    "        l1' = l1 a1 a2 y1 y2 l\n",
    "        s = calcS y1 y2\n",
    "        k11 = scalarToDbl $ x1 `k` x1\n",
    "        k12 = scalarToDbl $ x1 `k` x2\n",
    "        k22 = scalarToDbl $ x2 `k` x2\n",
    "    in\n",
    "        l1'*f1' + l*f2' \n",
    "            + 0.5*l1'*l1'*k11 \n",
    "            + 0.5*l1'*l1'*k22\n",
    "            + s*l*l1'*k12\n",
    "            \n",
    "            "
   ]
  },
  {
   "cell_type": "code",
   "execution_count": 23,
   "metadata": {
    "collapsed": false
   },
   "outputs": [],
   "source": [
    "psiUpper :: Kernel        -- Kernel function\n",
    "            -> BaseScalar -- Threshold\n",
    "            -> Value     -- Alpha1\n",
    "            -> Value     -- Alpha2 \n",
    "            -> ClassLabel -- True label class1\n",
    "            -> ClassLabel -- True label class2\n",
    "            -> Sample     -- x1\n",
    "            -> Sample     -- x2\n",
    "            -> PredictedLabel -- SVM predicted sample1\n",
    "            -> PredictedLabel -- SVM predicted sample2\n",
    "            -> Value     -- H upper bound\n",
    "            -> Value\n",
    "psiUpper k b a1 a2 y1 y2 x1 x2 t1 t2 h =\n",
    "    let\n",
    "        f1' = f1 k b y1 y2 t1 t2 a1 a2 x1 x2\n",
    "        f2' = f2 k b y1 y2 t1 t2 a1 a2 x1 x2\n",
    "        h1' = l1 a1 a2 y1 y2 h\n",
    "        s = calcS y1 y2\n",
    "        k11 = scalarToDbl $ x1 `k` x1\n",
    "        k12 = scalarToDbl $ x1 `k` x2\n",
    "        k22 = scalarToDbl $ x2 `k` x2\n",
    "    in\n",
    "        h1'*f1' + h*f2' \n",
    "            + 0.5*h1'*h1'*k11 \n",
    "            + 0.5*h1'*h1'*k22\n",
    "            + s*h*h1'*k12\n",
    "            "
   ]
  },
  {
   "cell_type": "markdown",
   "metadata": {},
   "source": [
    "# Understand Heuristic\n",
    "Ok, so now we need to understand section 2.2, Heuristics for choosing multipliers to optimise."
   ]
  },
  {
   "cell_type": "markdown",
   "metadata": {},
   "source": [
    "Hmmm.... by reading section 2.2 I think that I have broken the algorithm somewhat by restricting the SVM output to be assigned a class... it would seem that there is use for the information of how close to the correct class the estimate is... This will need a slight refactor..."
   ]
  },
  {
   "cell_type": "code",
   "execution_count": null,
   "metadata": {
    "collapsed": true
   },
   "outputs": [],
   "source": []
  }
 ],
 "metadata": {
  "kernelspec": {
   "display_name": "Haskell",
   "language": "haskell",
   "name": "haskell"
  },
  "language_info": {
   "codemirror_mode": "ihaskell",
   "file_extension": ".hs",
   "name": "haskell",
   "version": "7.10.3"
  }
 },
 "nbformat": 4,
 "nbformat_minor": 1
}
